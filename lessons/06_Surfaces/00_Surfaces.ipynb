{
 "cells": [
  {
   "cell_type": "markdown",
   "metadata": {},
   "source": [
    "# Surfaces\n",
    "\n",
    "Here is what the [Pygame Newbie Guide:](https://www.pygame.org/docs/tut/newbieguide.html) has to say about Surfaces:\n",
    "\n",
    "\n",
    "    Know what a surface is.\n",
    "\n",
    "    The most important part of pygame is the surface. Just think of a surface as a\n",
    "    blank piece of paper. You can do a lot of things with a surface -- you can draw\n",
    "    lines on it, fill parts of it with color, copy images to and from it, and set or\n",
    "    read individual pixel colors on it. A surface can be any size (within reason)\n",
    "    and you can have as many of them as you like (again, within reason). One surface\n",
    "    is special -- the one you create with pygame.display.set_mode() to Initialize a\n",
    "    window or screen for display. This 'display surface' represents the screen;\n",
    "    whatever you do to it will appear on the user's screen.\n",
    "\n",
    "    So how do you create surfaces? As mentioned above, you create the special\n",
    "    'display surface' with pygame.display.set_mode(). You can create a surface that\n",
    "    contains an image by using pygame.image.load() to load new image from a file (or\n",
    "    file-like object), or you can make a surface that contains text with\n",
    "    pygame.font.Font.render() to draw text on a new Surface. You can even create a\n",
    "    surface that contains nothing at all with pygame.Surface() pygame object for\n",
    "    representing images.\n",
    "\n",
    "    Most of the surface functions are not critical. Just learn Surface.blit(),\n",
    "    Surface.fill(), Surface.set_at() and Surface.get_at(), and you'll be fine.\n",
    "\n",
    "You've already used surfaces a lot: some of the surfaces you have used are: \n",
    "\n",
    "* `screen` - the main surface that you draw on\n",
    "* `background` - the surface that you draw the background on\n",
    "* any image you load with `pygame.image.load()`\n",
    "\n",
    "All of theses things are surfaces, and they are subclassed from the\n",
    "`pygame.Surface` class. Because they are all types of the same super 'calss' (\n",
    "Polymorhpism! ) they all have some of the same methods and attributes.\n",
    "\n",
    "## Read the docs!\n",
    "\n",
    "Keep the [Pygame Surface documentation](https://www.pygame.org/docs/ref/surface.html) handy. You can refer to it\n",
    "to learn more about the methods and attributes of the `pygame.Surface` class.\n"
   ]
  },
  {
   "cell_type": "markdown",
   "metadata": {},
   "source": [
    "\n",
    "## Tiling Backgrounds\n",
    "\n",
    "Somtimes you want to have a background that is larger than your background image, for instance, you may only have a slice of a background image, and you want to tile it to fill the screen. For example: \n",
    "\n",
    "![bg](images/background_tile.gif)\n",
    "\n",
    "\n",
    "We could stretch this image to the size of the screen, but that would look bad. Instead, we can tile the image to fill the screen. Here is how you can do that: \n",
    "\n",
    "```python\n",
    "def make_tiled_bg(screen, bg_file):\n",
    "    # Scale background to match the screen height\n",
    "    \n",
    "    bg_tile = pygame.image.load(bg_file).convert()\n",
    "    \n",
    "    background_height = screen.get_height()\n",
    "    bg_tile = pygame.transform.scale(bg_tile, (bg_tile.get_width(), screen.get_height()))\n",
    "\n",
    "    # Get the dimensions of the background after scaling\n",
    "    background_width = bg_tile.get_width()\n",
    "\n",
    "    # Make an image the is the same size as the screen\n",
    "    image = pygame.Surface((screen.get_width(), screen.get_height()))\n",
    "\n",
    "    # Tile the background image in the x-direction\n",
    "    for x in range(0, screen.get_width(), background_width):\n",
    "        image.blit(bg_tile, (x, 0))\n",
    "        \n",
    "    return image\n",
    "```\n",
    "\n",
    "First, we will stretch the image to the _height_ of the screen. Then we will\n",
    "create a new surface that is the same size as the screen. We will then tile the\n",
    "background image in the x-direction. We just copy the original image to the new\n",
    "surface at each x-coordinate. \n",
    "\n",
    "The form of the range function is `range(start, stop, step)`. This will start at\n",
    "0, and go to the width of the screen, in steps of the width of the background\n",
    "image. So, our code, `range(0, screen.get_width(), background_width)` will\n",
    "generate a sequence of x-coordinates that are the width of the background image\n",
    "apart across the whole screen. \n",
    "    \n",
    "## Assignment 1\n",
    "\n",
    "\n",
    "First, run and study the program `01_tile_background.py`. for an example of tiling a background. \n",
    "\n",
    "Write a function that will create a new image that is 100px wide and the height\n",
    "of the screen. Fill it with a color. Create a set of 6 of these images, each\n",
    "with a different color. Then, use the tiling technique to fill the screen with\n",
    "them. \n"
   ]
  },
  {
   "cell_type": "markdown",
   "metadata": {},
   "source": [
    "## Scrolling the Background\n",
    "\n",
    "Since the background is just an image, and sprites have an image, we can make\n",
    "the background move by moving the image. This can produce the moving brackground\n",
    "that you see in a log of side-scrolling games.\n",
    "\n",
    "The main trick is that you will create an image 2x the size of the screen, then blit\n",
    "your background onto that image twice. Then, you will move the image to the left\n",
    "by 1 pixel each frame. When the image is off the screen, you will move it back\n",
    "to the right and start over. \n",
    "\n",
    "## Assignment 2\n",
    "\n",
    "Open and study the program `02_scroll_background.py`. \n",
    "\n",
    "Update your program from Assignment 1 to scroll a multi-colored background."
   ]
  },
  {
   "cell_type": "markdown",
   "metadata": {
    "vscode": {
     "languageId": "plaintext"
    }
   },
   "source": [
    "## Next Steps\n",
    "\n",
    "Your next lesson is [03_Spritesheets](03_Spritesheets.ipynb)"
   ]
  },
  {
   "cell_type": "markdown",
   "metadata": {},
   "source": []
  }
 ],
 "metadata": {
  "language_info": {
   "name": "python"
  }
 },
 "nbformat": 4,
 "nbformat_minor": 2
}
